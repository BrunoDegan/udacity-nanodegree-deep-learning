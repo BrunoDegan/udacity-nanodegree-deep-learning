{
 "cells": [
  {
   "cell_type": "code",
   "execution_count": 14,
   "metadata": {},
   "outputs": [],
   "source": [
    "import numpy as np\n",
    "\n",
    "# Write a function that takes as input a list of numbers, and returns\n",
    "# the list of values given by the softmax function.\n",
    "def softmax(L):\n",
    "    \n",
    "    softmax_result = []\n",
    "    \n",
    "    exp_index_list = np.exp(L)\n",
    "    sum_index_list = np.sum(exp_index_list)\n",
    "    \n",
    "    for exp_index in exp_index_list:\n",
    "        i = exp_index / sum_index_list\n",
    "        softmax_result.append(i)\n",
    "    \n",
    "    return softmax_result\n",
    "        \n",
    "        \n",
    "    #expL = np.exp(L)\n",
    "    #return np.divide (expL, expL.sum())"
   ]
  },
  {
   "cell_type": "code",
   "execution_count": 15,
   "metadata": {},
   "outputs": [
    {
     "data": {
      "text/plain": [
       "[0.004670307858358802,\n",
       " 0.012695212984686212,\n",
       " 0.03450916676468985,\n",
       " 0.25499016915164646,\n",
       " 0.6931351432406188]"
      ]
     },
     "execution_count": 15,
     "metadata": {},
     "output_type": "execute_result"
    }
   ],
   "source": [
    "softmax([5,6,7,9,10])"
   ]
  }
 ],
 "metadata": {
  "kernelspec": {
   "display_name": "Python 3",
   "language": "python",
   "name": "python3"
  },
  "language_info": {
   "codemirror_mode": {
    "name": "ipython",
    "version": 3
   },
   "file_extension": ".py",
   "mimetype": "text/x-python",
   "name": "python",
   "nbconvert_exporter": "python",
   "pygments_lexer": "ipython3",
   "version": "3.6.4"
  }
 },
 "nbformat": 4,
 "nbformat_minor": 2
}
