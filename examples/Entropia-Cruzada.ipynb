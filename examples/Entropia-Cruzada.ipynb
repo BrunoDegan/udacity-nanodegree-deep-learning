{
 "cells": [
  {
   "cell_type": "code",
   "execution_count": 11,
   "metadata": {},
   "outputs": [],
   "source": [
    "import numpy as np\n",
    "\n",
    "# Write a function that takes as input two lists Y, P,\n",
    "# and returns the float corresponding to their cross-entropy.\n",
    "def cross_entropy(Y, P):\n",
    "    y = np.float_(Y)\n",
    "    p = np.float_(P)\n",
    "    \n",
    "    cross_entropy =  - np.sum( (y * np.log(p)) + (1-y) * np.log(1-p) )\n",
    "    return cross_entropy\n",
    "\n",
    "def multiple_cross_entropy(Y, P, classes):\n",
    "    y = np.float_(Y)\n",
    "    p = np.float_(P)\n",
    "    \n",
    "    for element in range (classes):\n",
    "        cross_entropy += -np.sum( (y * np.log(p)) + (1-y) * np.log(1-p))\n",
    "        \n",
    "    return cross_entropy\n",
    "\n",
    "\n",
    "\n"
   ]
  },
  {
   "cell_type": "code",
   "execution_count": null,
   "metadata": {},
   "outputs": [],
   "source": []
  }
 ],
 "metadata": {
  "kernelspec": {
   "display_name": "Python 3",
   "language": "python",
   "name": "python3"
  },
  "language_info": {
   "codemirror_mode": {
    "name": "ipython",
    "version": 3
   },
   "file_extension": ".py",
   "mimetype": "text/x-python",
   "name": "python",
   "nbconvert_exporter": "python",
   "pygments_lexer": "ipython3",
   "version": "3.7.0"
  }
 },
 "nbformat": 4,
 "nbformat_minor": 2
}
